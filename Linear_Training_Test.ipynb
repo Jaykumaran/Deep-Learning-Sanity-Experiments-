{
 "cells": [
  {
   "cell_type": "code",
   "execution_count": 3,
   "id": "c24382c5-2674-4e6c-80da-132fef49043e",
   "metadata": {},
   "outputs": [],
   "source": [
    "import torch\n",
    "\n",
    "import torch.nn as nn\n",
    "import torch.optim as optim\n",
    "import numpy as np"
   ]
  },
  {
   "cell_type": "code",
   "execution_count": 18,
   "id": "f2991308-46aa-4bba-b451-181556bfee0b",
   "metadata": {},
   "outputs": [],
   "source": [
    "import random\n",
    "\n",
    "# Random manual seed for consistency.\n",
    "seed = 42\n",
    "random.seed(seed)\n",
    "np.random.seed(seed)\n",
    "torch.random.manual_seed(seed)\n",
    "torch.manual_seed(seed)\n",
    "torch.backends.deterministic = True\n",
    "torch.backends.benchmark = True"
   ]
  },
  {
   "cell_type": "code",
   "execution_count": 19,
   "id": "998b25ba-ec82-48ba-9dd5-bf9ab7e1b703",
   "metadata": {},
   "outputs": [
    {
     "data": {
      "text/plain": [
       "'2.3.1+cu121'"
      ]
     },
     "execution_count": 19,
     "metadata": {},
     "output_type": "execute_result"
    }
   ],
   "source": [
    "torch.__version__"
   ]
  },
  {
   "cell_type": "code",
   "execution_count": 20,
   "id": "64b7e8a0-e6dd-47ac-974e-5b94cb5fe428",
   "metadata": {},
   "outputs": [
    {
     "data": {
      "text/plain": [
       "True"
      ]
     },
     "execution_count": 20,
     "metadata": {},
     "output_type": "execute_result"
    }
   ],
   "source": [
    "torch.cuda.is_available()"
   ]
  },
  {
   "cell_type": "code",
   "execution_count": 21,
   "id": "0aa5d884-78ae-4bcc-9bf1-3be0c16627bf",
   "metadata": {},
   "outputs": [],
   "source": [
    "l1 = nn.Linear(in_features=6, out_features=2)\n",
    "l2 = nn.Linear(in_features=6, out_features=2)"
   ]
  },
  {
   "cell_type": "code",
   "execution_count": 22,
   "id": "13f21610-2467-4575-b64b-592705ff554b",
   "metadata": {},
   "outputs": [
    {
     "data": {
      "text/plain": [
       "OrderedDict([('weight',\n",
       "              tensor([[ 0.3121,  0.3388, -0.0956,  0.3750, -0.0894,  0.0824],\n",
       "                      [-0.1988,  0.2398,  0.3599, -0.2995,  0.3548,  0.0764]])),\n",
       "             ('bias', tensor([0.3016, 0.0553]))])"
      ]
     },
     "execution_count": 22,
     "metadata": {},
     "output_type": "execute_result"
    }
   ],
   "source": [
    "l1.state_dict()"
   ]
  },
  {
   "cell_type": "code",
   "execution_count": 23,
   "id": "22772986-d594-40ec-b1e9-7364b24d379a",
   "metadata": {},
   "outputs": [
    {
     "name": "stdout",
     "output_type": "stream",
     "text": [
      "Parameter containing:\n",
      "tensor([[ 0.3121,  0.3388, -0.0956,  0.3750, -0.0894,  0.0824],\n",
      "        [-0.1988,  0.2398,  0.3599, -0.2995,  0.3548,  0.0764]],\n",
      "       requires_grad=True)\n",
      "Parameter containing:\n",
      "tensor([0.3016, 0.0553], requires_grad=True)\n"
     ]
    }
   ],
   "source": [
    "for param in l1.parameters():\n",
    "    print(param)"
   ]
  },
  {
   "cell_type": "code",
   "execution_count": 24,
   "id": "b52ffd70-94e6-48b2-9ca6-4a88c236ad45",
   "metadata": {},
   "outputs": [
    {
     "name": "stdout",
     "output_type": "stream",
     "text": [
      "Parameter containing:\n",
      "tensor([[ 0.1969, -0.0576,  0.3147,  0.0603, -0.1906,  0.1041],\n",
      "        [-0.1881, -0.0479, -0.1658,  0.2708, -0.3223, -0.1882]],\n",
      "       requires_grad=True)\n",
      "Parameter containing:\n",
      "tensor([-0.1153, -0.2455], requires_grad=True)\n"
     ]
    }
   ],
   "source": [
    "for param in l2.parameters():\n",
    "    print(param)"
   ]
  },
  {
   "cell_type": "code",
   "execution_count": 25,
   "id": "b840408d-086c-4abb-a8f0-a350022a0133",
   "metadata": {},
   "outputs": [],
   "source": [
    "rand_ip = torch.rand(10, 6)\n",
    "random_tar = torch.rand(10,2)"
   ]
  },
  {
   "cell_type": "code",
   "execution_count": 26,
   "id": "976e1e76-4192-4ba4-9237-52fc91e2a860",
   "metadata": {},
   "outputs": [],
   "source": [
    "loss_l1 = nn.MSELoss()\n",
    "loss_l2 = nn.MSELoss()"
   ]
  },
  {
   "cell_type": "code",
   "execution_count": 27,
   "id": "f78c2698-5b4c-4829-b35b-2c6cb10250cc",
   "metadata": {},
   "outputs": [],
   "source": [
    "optimizer1 = optim.SGD(l1.parameters(), lr=1e-2)\n",
    "optimizer2 = optim.SGD(l2.parameters(), lr=1e-2)"
   ]
  },
  {
   "cell_type": "code",
   "execution_count": 28,
   "id": "34755bb5-5db7-4274-94ba-f85ee13e832e",
   "metadata": {},
   "outputs": [],
   "source": [
    "l1.train()\n",
    "optimizer1.zero_grad()\n",
    "preds = l1(rand_ip)\n",
    "loss_1 = loss_l1(preds, random_tar)\n",
    "loss_1.backward()\n",
    "optimizer1.step()"
   ]
  },
  {
   "cell_type": "code",
   "execution_count": 29,
   "id": "69d11baa-2782-4db1-8439-bd7e5aee85d4",
   "metadata": {},
   "outputs": [
    {
     "name": "stdout",
     "output_type": "stream",
     "text": [
      "Parameter containing:\n",
      "tensor([[ 0.3101,  0.3374, -0.0980,  0.3739, -0.0905,  0.0817],\n",
      "        [-0.1989,  0.2395,  0.3598, -0.2993,  0.3548,  0.0764]],\n",
      "       requires_grad=True)\n",
      "Parameter containing:\n",
      "tensor([0.2986, 0.0551], requires_grad=True)\n"
     ]
    }
   ],
   "source": [
    "for param in l1.parameters():\n",
    "    print(param)"
   ]
  },
  {
   "cell_type": "code",
   "execution_count": 30,
   "id": "d67d2986-b1b9-4846-9c58-f4a18db1107f",
   "metadata": {},
   "outputs": [
    {
     "name": "stdout",
     "output_type": "stream",
     "text": [
      "Parameter containing:\n",
      "tensor([[ 0.1969, -0.0576,  0.3147,  0.0603, -0.1906,  0.1041],\n",
      "        [-0.1881, -0.0479, -0.1658,  0.2708, -0.3223, -0.1882]],\n",
      "       requires_grad=True)\n",
      "Parameter containing:\n",
      "tensor([-0.1153, -0.2455], requires_grad=True)\n"
     ]
    }
   ],
   "source": [
    "for param in l2.parameters():\n",
    "    print(param)"
   ]
  },
  {
   "cell_type": "code",
   "execution_count": 15,
   "id": "b54990f8-6eee-4273-8653-53d4343a4225",
   "metadata": {},
   "outputs": [],
   "source": [
    "l1.train()\n",
    "optimizer1.zero_grad()\n",
    "preds = l1(rand_ip)\n",
    "loss_1 = loss_l1(preds, random_tar)\n",
    "loss_1.backward()\n",
    "optimizer2.step()"
   ]
  },
  {
   "cell_type": "code",
   "execution_count": 16,
   "id": "794c276c-f9bd-44ab-9461-d5fedce542d4",
   "metadata": {},
   "outputs": [
    {
     "name": "stdout",
     "output_type": "stream",
     "text": [
      "Parameter containing:\n",
      "tensor([[ 0.3121,  0.3388, -0.0956,  0.3750, -0.0894,  0.0824],\n",
      "        [-0.1988,  0.2398,  0.3599, -0.2995,  0.3548,  0.0764]],\n",
      "       requires_grad=True)\n",
      "Parameter containing:\n",
      "tensor([0.3016, 0.0553], requires_grad=True)\n"
     ]
    }
   ],
   "source": [
    "for param in l1.parameters():\n",
    "    print(param)"
   ]
  },
  {
   "cell_type": "code",
   "execution_count": 17,
   "id": "c5576b12-e103-46a7-98bb-0ad5ad47f337",
   "metadata": {},
   "outputs": [
    {
     "name": "stdout",
     "output_type": "stream",
     "text": [
      "Parameter containing:\n",
      "tensor([[ 0.1969, -0.0576,  0.3147,  0.0603, -0.1906,  0.1041],\n",
      "        [-0.1881, -0.0479, -0.1658,  0.2708, -0.3223, -0.1882]],\n",
      "       requires_grad=True)\n",
      "Parameter containing:\n",
      "tensor([-0.1153, -0.2455], requires_grad=True)\n"
     ]
    }
   ],
   "source": [
    "for param in l2.parameters():\n",
    "    print(param)"
   ]
  },
  {
   "cell_type": "code",
   "execution_count": 31,
   "id": "74245be7-8e5c-4a84-b745-2854685dc8dc",
   "metadata": {},
   "outputs": [],
   "source": [
    "l2.weight.grad"
   ]
  },
  {
   "cell_type": "code",
   "execution_count": 32,
   "id": "bbc49c1a-ea26-401b-bb8f-885c1fc5690e",
   "metadata": {},
   "outputs": [
    {
     "data": {
      "text/plain": [
       "tensor([[ 2.0515e-01,  1.4023e-01,  2.3210e-01,  1.1071e-01,  1.0792e-01,\n",
       "          6.7658e-02],\n",
       "        [ 1.8303e-02,  2.2207e-02,  1.2788e-02, -2.0245e-02,  2.0396e-04,\n",
       "          4.8681e-03]])"
      ]
     },
     "execution_count": 32,
     "metadata": {},
     "output_type": "execute_result"
    }
   ],
   "source": [
    "l1.weight.grad"
   ]
  },
  {
   "cell_type": "code",
   "execution_count": null,
   "id": "e9e7e9f4-ae3b-43e2-96bc-529c84d67ff7",
   "metadata": {},
   "outputs": [],
   "source": []
  }
 ],
 "metadata": {
  "kernelspec": {
   "display_name": "Python 3 (ipykernel)",
   "language": "python",
   "name": "python3"
  },
  "language_info": {
   "codemirror_mode": {
    "name": "ipython",
    "version": 3
   },
   "file_extension": ".py",
   "mimetype": "text/x-python",
   "name": "python",
   "nbconvert_exporter": "python",
   "pygments_lexer": "ipython3",
   "version": "3.10.0"
  }
 },
 "nbformat": 4,
 "nbformat_minor": 5
}
